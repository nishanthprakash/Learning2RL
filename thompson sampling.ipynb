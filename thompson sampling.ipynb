{
 "cells": [
  {
   "cell_type": "code",
   "execution_count": 21,
   "metadata": {
    "collapsed": true
   },
   "outputs": [],
   "source": [
    "import random as rnd\n",
    "\n",
    "class Bandits2():\n",
    "\n",
    "    p = [.5, .5]\n",
    "    max_e = 0.0\n",
    "\n",
    "    def __init__(self, t):\n",
    "        if t == 1:\n",
    "            self.p = [rnd.random(), rnd.random()]\n",
    "        elif t == 2:\n",
    "            p = rnd.random()\n",
    "            self.p = [p, 1-p]\n",
    "        else:\n",
    "            p = rnd.randrange(0,2)\n",
    "            if t == 3:\n",
    "                rp = [.1,.9][p]\n",
    "                self.p = [rp, 1-rp]\n",
    "            elif t == 4:\n",
    "                rp = [.25, .75][p]\n",
    "                self.p = [rp, 1-rp]\n",
    "            else:\n",
    "                rp = [.4, .6][p]\n",
    "                self.p = [rp,1-rp]\n",
    "\n",
    "        self.max_e = max(self.p)\n",
    "\n",
    "\n",
    "    def pull(self,arm):\n",
    "        if rnd.random() <= self.p[arm]:\n",
    "            return 1\n",
    "        else:\n",
    "            return 0\n",
    "\n",
    "    def expv_arm(self,arm):\n",
    "        return self.p[arm]\n",
    "    \n",
    "class Bandits11():\n",
    "\n",
    "    rewards = [1 for i in range(11)]\n",
    "    max_e = 5.0\n",
    "\n",
    "    def __init__(self):\n",
    "        hr = rnd.randrange(0,10)\n",
    "        self.rewards[hr] = 5\n",
    "        self.rewards[10] = hr*.1\n",
    "\n",
    "    def pull(self,arm):\n",
    "        return self.rewards[arm]\n",
    "\n",
    "    def expv_arm(self,arm):\n",
    "        return self.rewards[arm]"
   ]
  },
  {
   "cell_type": "code",
   "execution_count": 26,
   "metadata": {},
   "outputs": [
    {
     "data": {
      "image/png": "[encoded data removed]",
      "text/plain": [
       "<matplotlib.figure.Figure at 0x10f888d10>"
      ]
     },
     "metadata": {},
     "output_type": "display_data"
    }
   ],
   "source": [
    "import numpy as np\n",
    "import matplotlib.pyplot\n",
    "\n",
    "bandits = Bandits2(2)\n",
    "nbandits = 2\n",
    "arm_stats = [[0, 0] for i in range(nbandits)]\n",
    "\n",
    "trials = 1500\n",
    "regret = np.zeros(trials)\n",
    "for i in range(trials):\n",
    "\n",
    "    # Pick arm\n",
    "    arm_samples = [np.random.beta(arm_stats[j][0] + 1, arm_stats[j][1] + 1) for j in range(nbandits)]\n",
    "    pick = np.argmax(arm_samples)\n",
    "    \n",
    "    r = bandits.pull(pick)\n",
    "    if r:\n",
    "        arm_stats[pick][0] += 1\n",
    "    else:\n",
    "        arm_stats[pick][1] += 1\n",
    "\n",
    "    if i == 0:\n",
    "        regret[i] = bandits.max_e - bandits.expv_arm(pick)\n",
    "    else:\n",
    "        regret[i] = regret[i-1] + bandits.max_e - bandits.expv_arm(pick)\n",
    "\n",
    "matplotlib.pyplot.scatter(range(len(regret)), regret)\n",
    "matplotlib.pyplot.show()"
   ]
  },
  {
   "cell_type": "code",
   "execution_count": null,
   "metadata": {
    "collapsed": true
   },
   "outputs": [],
   "source": []
  },
  {
   "cell_type": "code",
   "execution_count": null,
   "metadata": {
    "collapsed": true
   },
   "outputs": [],
   "source": []
  },
  {
   "cell_type": "code",
   "execution_count": null,
   "metadata": {
    "collapsed": true
   },
   "outputs": [],
   "source": []
  },
  {
   "cell_type": "code",
   "execution_count": null,
   "metadata": {
    "collapsed": true
   },
   "outputs": [],
   "source": []
  }
 ],
 "metadata": {
  "kernelspec": {
   "display_name": "Python 2",
   "language": "python",
   "name": "python2"
  },
  "language_info": {
   "codemirror_mode": {
    "name": "ipython",
    "version": 2
   },
   "file_extension": ".py",
   "mimetype": "text/x-python",
   "name": "python",
   "nbconvert_exporter": "python",
   "pygments_lexer": "ipython2",
   "version": "2.7.13"
  }
 },
 "nbformat": 4,
 "nbformat_minor": 2
}
